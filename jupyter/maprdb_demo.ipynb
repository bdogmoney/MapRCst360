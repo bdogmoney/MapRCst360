{
 "cells": [
  {
   "cell_type": "markdown",
   "metadata": {},
   "source": [
    "# Introduction to MapR-DB\n",
    "\n",
    "MapR-DB provides the following capabilities:\n",
    "- **High performance:** No memory copying. You can store data and run analytics on that data without moving data since the MapR Converged Data Platform is integrated with Hadoop and analysis engines like Spark.\n",
    "- **Easy application development:** JSON constructs such as such as maps, arrays, and data types are supported natively.\n",
    "- **Extreme scale for CRUD operations:** Enabled by the integration of MapR-DB with the MapR File System, CRUD operations are extremely fast and efficient.\n",
    "- **Flexible data model:** MapR-DB can be used as both a document database and a wide-column database. So if the content structure changes, the applications do not need to be re-written.\n",
    "- **Rich query:** Integration with Drill for MapR provides a low-latency distributed query engine for large-scale datasets, including structured and semi-structured/nested data.\n",
    "- **Strong data consistency:** Consistently fast response with strong data consistency with row/document level ACID transactions and in-memory database options for faster speeds."
   ]
  },
  {
   "cell_type": "markdown",
   "metadata": {},
   "source": [
    "# MapR-DB In Action\n",
    "\n",
    "Below we've illustrated some common database functions using the MapR-DB Python API. For more information about the Python API, see [https://github.com/mapr-demos/python-bindings/tree/master/maprdb](https://github.com/mapr-demos/python-bindings/tree/master/maprdb) "
   ]
  },
  {
   "cell_type": "code",
   "execution_count": 1,
   "metadata": {
    "collapsed": true
   },
   "outputs": [],
   "source": [
    "# Sample code for using JSON tables in MapR-DB with Python\n",
    "import json\n",
    "import sys\n",
    "import maprdb"
   ]
  },
  {
   "cell_type": "code",
   "execution_count": 2,
   "metadata": {
    "collapsed": true
   },
   "outputs": [],
   "source": [
    "# Connect to MapR cluster.\n",
    "conn = maprdb.connect()"
   ]
  },
  {
   "cell_type": "code",
   "execution_count": 3,
   "metadata": {
    "collapsed": true
   },
   "outputs": [],
   "source": [
    "# Declare the path in the MapR filesystem in which to find the table:\n",
    "TABLE_PATH = \"/mapr/my.cluster.com/tmp/crm_data\"\n",
    "# Get a reference to the table:\n",
    "table = conn.get(TABLE_PATH)"
   ]
  },
  {
   "cell_type": "code",
   "execution_count": 4,
   "metadata": {},
   "outputs": [
    {
     "name": "stdout",
     "output_type": "stream",
     "text": [
      "{'zip': '71410', 'name': 'Eva Peterson', 'birth_date': '04/22/2001', 'email': 'CarlTaylor@example.com', 'sentiment': 'POSITIVE', 'first_visit': '07/15/2012', 'churn_risk': 6.0, 'phone_number': '972-319-5949', 'ssn': '448-15-9240', 'gender': 'FEMALE', 'persona': 3.0, 'longitude': '-92.77', 'address': '48578 Sandy Maple Edge', '_id': '000022e6-163d-4b2d-85e9-8d6a523a261c', 'id': '000022e6-163d-4b2d-85e9-8d6a523a261c', 'state': 'wi', 'latitude': '31.95'}\n",
      "{'zip': '41101', 'name': 'Richard Escalante', 'birth_date': '08/08/1974', 'email': 'RoslynSolomon@example.com', 'sentiment': 'NEUTRAL', 'first_visit': '10/26/2003', 'churn_risk': 2.0, 'phone_number': '276-464-8090', 'ssn': '530-78-7306', 'gender': 'FEMALE', 'persona': 2.0, 'longitude': '-82.64', 'address': '64 Pretty Rock Dell', '_id': '00003d07-ee73-4fa8-9e3e-fa806aebaf68', 'id': '00003d07-ee73-4fa8-9e3e-fa806aebaf68', 'state': 'ga', 'latitude': '38.45'}\n"
     ]
    }
   ],
   "source": [
    "# Read top 2 rows in the table:\n",
    "import itertools\n",
    "for item in itertools.islice(table.find(), 2):\n",
    "        print(item)"
   ]
  },
  {
   "cell_type": "code",
   "execution_count": 8,
   "metadata": {},
   "outputs": [
    {
     "data": {
      "text/plain": [
       "{'_id': '43ba751a-72bd-4974-8c5a-32e4356b3776',\n",
       " 'address': '4855 Honey Flower Nook',\n",
       " 'birth_date': '07/07/1983',\n",
       " 'churn_risk': 13.0,\n",
       " 'email': 'LowellStangl@example.com',\n",
       " 'first_visit': '02/26/2006',\n",
       " 'gender': 'MALE',\n",
       " 'id': '43ba751a-72bd-4974-8c5a-32e4356b3776',\n",
       " 'latitude': '34.16',\n",
       " 'longitude': '-84.80',\n",
       " 'name': 'Linda Maestas',\n",
       " 'persona': 1.0,\n",
       " 'phone_number': '189-862-8438',\n",
       " 'sentiment': 'NEUTRAL',\n",
       " 'ssn': '520-64-5642',\n",
       " 'state': 'nc',\n",
       " 'zip': '30120'}"
      ]
     },
     "execution_count": 8,
     "metadata": {},
     "output_type": "execute_result"
    }
   ],
   "source": [
    "# Lookup a specific row in the table by id:\n",
    "table.find_by_id(\"43ba751a-72bd-4974-8c5a-32e4356b3776\")"
   ]
  },
  {
   "cell_type": "markdown",
   "metadata": {},
   "source": [
    "# MapR-DB JSON\n",
    "\n",
    "MapR-DB reads/writes JSON data at the element level, so if you request a single element within a JSON document, only that element is read from disk and transported over the wire to the application. Some NoSQL databases handle this properly while others are actually key-value stores with complex JSON processing built into the API. "
   ]
  },
  {
   "cell_type": "markdown",
   "metadata": {},
   "source": [
    "# Security Features\n",
    "\n",
    "MapR-DB reads/writes JSON data at the element level, so if you request a single element within a JSON document, only that element is read from disk and transported over the wire to the application. Some NoSQL databases handle this properly while others are actually key-value stores with complex JSON processing built into the API. "
   ]
  },
  {
   "cell_type": "code",
   "execution_count": null,
   "metadata": {
    "collapsed": true
   },
   "outputs": [],
   "source": []
  }
 ],
 "metadata": {
  "kernelspec": {
   "display_name": "Python 3",
   "language": "python",
   "name": "python3"
  },
  "language_info": {
   "codemirror_mode": {
    "name": "ipython",
    "version": 3
   },
   "file_extension": ".py",
   "mimetype": "text/x-python",
   "name": "python",
   "nbconvert_exporter": "python",
   "pygments_lexer": "ipython3",
   "version": "3.4.3"
  }
 },
 "nbformat": 4,
 "nbformat_minor": 2
}
